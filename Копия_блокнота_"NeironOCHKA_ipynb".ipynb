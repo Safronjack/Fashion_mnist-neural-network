{
  "nbformat": 4,
  "nbformat_minor": 0,
  "metadata": {
    "colab": {
      "provenance": [],
      "collapsed_sections": [],
      "authorship_tag": "ABX9TyORHWFgT6eqCZ8s0arHAIqD",
      "include_colab_link": true
    },
    "kernelspec": {
      "name": "python3",
      "display_name": "Python 3"
    },
    "language_info": {
      "name": "python"
    }
  },
  "cells": [
    {
      "cell_type": "markdown",
      "metadata": {
        "id": "view-in-github",
        "colab_type": "text"
      },
      "source": [
        "<a href=\"https://colab.research.google.com/github/Safronjack/Fashion_mnist-neural-network/blob/main/%D0%9A%D0%BE%D0%BF%D0%B8%D1%8F_%D0%B1%D0%BB%D0%BE%D0%BA%D0%BD%D0%BE%D1%82%D0%B0_%22NeironOCHKA_ipynb%22.ipynb\" target=\"_parent\"><img src=\"https://colab.research.google.com/assets/colab-badge.svg\" alt=\"Open In Colab\"/></a>"
      ]
    },
    {
      "cell_type": "code",
      "execution_count": 2,
      "metadata": {
        "id": "gJ7Jah_gLFem"
      },
      "outputs": [],
      "source": [
        "import numpy as np\n",
        "import tensorflow as tf\n",
        "import matplotlib.pyplot as plt\n",
        "from tensorflow import keras\n",
        "%matplotlib inline\n",
        "from tensorflow.keras.datasets import fashion_mnist\n",
        "from tensorflow.keras.models import Sequential\n",
        "from tensorflow.keras.layers import Dense, Dropout\n",
        "from tensorflow.keras import utils"
      ]
    },
    {
      "cell_type": "code",
      "source": [
        "# Загрузка датасета fashion_mnist\n",
        "(x_train, y_train), (x_test, y_test) = fashion_mnist.load_data()\n",
        "# (x_test, y_test) = fashion_mnist.load_data()\n",
        "x_train = x_train / 255\n",
        "x_test = x_test / 255"
      ],
      "metadata": {
        "id": "di-X6_-rM6B6"
      },
      "execution_count": 19,
      "outputs": []
    },
    {
      "cell_type": "code",
      "source": [
        "class_names = ['Футболка/топ', 'Брюки', 'Пуловер', 'Платье', 'Пальто', 'Сандалии', 'Рубашка', 'Кроссовки', 'Сумка', 'Ботильоны']\n",
        "\n",
        "#plt.figure()\n",
        "#plt.imshow(x_train[12])\n",
        "#plt.colorbar()\n",
        "#plt.grid(False)"
      ],
      "metadata": {
        "id": "volgc3W7OFHq",
        "colab": {
          "base_uri": "https://localhost:8080/",
          "height": 283
        },
        "outputId": "6fc0ee24-939d-4a1f-986f-236fa3e226b0"
      },
      "execution_count": 16,
      "outputs": [
        {
          "output_type": "execute_result",
          "data": {
            "text/plain": [
              "<matplotlib.image.AxesImage at 0x7fe52b859e10>"
            ]
          },
          "metadata": {},
          "execution_count": 16
        },
        {
          "output_type": "display_data",
          "data": {
            "text/plain": [
              "<Figure size 432x288 with 1 Axes>"
            ],
            "image/png": "[encoded data removed]"
          },
          "metadata": {
            "needs_background": "light"
          }
        }
      ]
    },
    {
      "cell_type": "code",
      "source": [
        "# Создание модели нейронной сети"
      ],
      "metadata": {
        "id": "dI6TuiPTSHwm"
      },
      "execution_count": 5,
      "outputs": []
    },
    {
      "cell_type": "code",
      "source": [
        "model = keras.Sequential([\n",
        "                          keras.layers.Flatten(input_shape=(28,28)),\n",
        "                          keras.layers.Dense(128, activation=\"relu\"),\n",
        "                          keras.layers.Dense(10, activation=\"softmax\")\n",
        "])"
      ],
      "metadata": {
        "id": "Myq4ZRUpS3vJ"
      },
      "execution_count": 6,
      "outputs": []
    },
    {
      "cell_type": "code",
      "source": [
        "# Компиляция модели "
      ],
      "metadata": {
        "id": "NZsYXfK2UrGQ"
      },
      "execution_count": 7,
      "outputs": []
    },
    {
      "cell_type": "code",
      "source": [
        "model.compile(optimizer=tf.keras.optimizers.Adam(), loss='sparse_categorical_crossentropy', metrics=['accuracy'])\n",
        "#model.compile(optimizer=tf.keras.optimizers.SGD(), loss='sparse_categorical_crossentropy', metrics=['accuracy'])"
      ],
      "metadata": {
        "id": "S0KzyFvAUsy1"
      },
      "execution_count": 8,
      "outputs": []
    },
    {
      "cell_type": "code",
      "source": [
        "#model.summary()"
      ],
      "metadata": {
        "id": "oS_ObuxLXUeJ"
      },
      "execution_count": null,
      "outputs": []
    },
    {
      "cell_type": "code",
      "source": [
        "# Обучение модели"
      ],
      "metadata": {
        "id": "Ksue35UxXhe6"
      },
      "execution_count": null,
      "outputs": []
    },
    {
      "cell_type": "code",
      "source": [
        "model.fit(x_train, y_train, epochs=250)"
      ],
      "metadata": {
        "colab": {
          "base_uri": "https://localhost:8080/"
        },
        "id": "k5Hx2LwBXjQI",
        "outputId": "63899351-43ac-4361-f918-5d3846d0bbac"
      },
      "execution_count": 9,
      "outputs": [
        {
          "output_type": "stream",
          "name": "stdout",
          "text": [
            "Epoch 1/250\n",
            "1875/1875 [==============================] - 6s 3ms/step - loss: 0.4987 - accuracy: 0.8247\n",
            "Epoch 2/250\n",
            "1875/1875 [==============================] - 5s 3ms/step - loss: 0.3707 - accuracy: 0.8670\n",
            "Epoch 3/250\n",
            "1875/1875 [==============================] - 5s 3ms/step - loss: 0.3334 - accuracy: 0.8777\n",
            "Epoch 4/250\n",
            "1875/1875 [==============================] - 5s 3ms/step - loss: 0.3101 - accuracy: 0.8862\n",
            "Epoch 5/250\n",
            "1875/1875 [==============================] - 5s 3ms/step - loss: 0.2936 - accuracy: 0.8920\n",
            "Epoch 6/250\n",
            "1875/1875 [==============================] - 5s 3ms/step - loss: 0.2783 - accuracy: 0.8963\n",
            "Epoch 7/250\n",
            "1875/1875 [==============================] - 5s 3ms/step - loss: 0.2676 - accuracy: 0.9010\n",
            "Epoch 8/250\n",
            "1875/1875 [==============================] - 5s 3ms/step - loss: 0.2565 - accuracy: 0.9048\n",
            "Epoch 9/250\n",
            "1875/1875 [==============================] - 6s 3ms/step - loss: 0.2459 - accuracy: 0.9075\n",
            "Epoch 10/250\n",
            "1875/1875 [==============================] - 5s 3ms/step - loss: 0.2381 - accuracy: 0.9094\n",
            "Epoch 11/250\n",
            "1875/1875 [==============================] - 5s 3ms/step - loss: 0.2321 - accuracy: 0.9123\n",
            "Epoch 12/250\n",
            "1875/1875 [==============================] - 5s 2ms/step - loss: 0.2233 - accuracy: 0.9161\n",
            "Epoch 13/250\n",
            "1875/1875 [==============================] - 5s 3ms/step - loss: 0.2167 - accuracy: 0.9189\n",
            "Epoch 14/250\n",
            "1875/1875 [==============================] - 5s 3ms/step - loss: 0.2097 - accuracy: 0.9216\n",
            "Epoch 15/250\n",
            "1875/1875 [==============================] - 5s 2ms/step - loss: 0.2059 - accuracy: 0.9225\n",
            "Epoch 16/250\n",
            "1875/1875 [==============================] - 5s 3ms/step - loss: 0.1989 - accuracy: 0.9256\n",
            "Epoch 17/250\n",
            "1875/1875 [==============================] - 5s 3ms/step - loss: 0.1929 - accuracy: 0.9283\n",
            "Epoch 18/250\n",
            "1875/1875 [==============================] - 5s 3ms/step - loss: 0.1898 - accuracy: 0.9279\n",
            "Epoch 19/250\n",
            "1875/1875 [==============================] - 5s 3ms/step - loss: 0.1853 - accuracy: 0.9297\n",
            "Epoch 20/250\n",
            "1875/1875 [==============================] - 5s 3ms/step - loss: 0.1791 - accuracy: 0.9324\n",
            "Epoch 21/250\n",
            "1875/1875 [==============================] - 5s 3ms/step - loss: 0.1736 - accuracy: 0.9344\n",
            "Epoch 22/250\n",
            "1875/1875 [==============================] - 5s 3ms/step - loss: 0.1706 - accuracy: 0.9358\n",
            "Epoch 23/250\n",
            "1875/1875 [==============================] - 5s 3ms/step - loss: 0.1689 - accuracy: 0.9356\n",
            "Epoch 24/250\n",
            "1875/1875 [==============================] - 5s 3ms/step - loss: 0.1628 - accuracy: 0.9385\n",
            "Epoch 25/250\n",
            "1875/1875 [==============================] - 5s 3ms/step - loss: 0.1578 - accuracy: 0.9398\n",
            "Epoch 26/250\n",
            "1875/1875 [==============================] - 5s 3ms/step - loss: 0.1544 - accuracy: 0.9414\n",
            "Epoch 27/250\n",
            "1875/1875 [==============================] - 5s 3ms/step - loss: 0.1532 - accuracy: 0.9414\n",
            "Epoch 28/250\n",
            "1875/1875 [==============================] - 5s 3ms/step - loss: 0.1486 - accuracy: 0.9435\n",
            "Epoch 29/250\n",
            "1875/1875 [==============================] - 5s 3ms/step - loss: 0.1456 - accuracy: 0.9453\n",
            "Epoch 30/250\n",
            "1875/1875 [==============================] - 5s 3ms/step - loss: 0.1443 - accuracy: 0.9453\n",
            "Epoch 31/250\n",
            "1875/1875 [==============================] - 5s 3ms/step - loss: 0.1366 - accuracy: 0.9481\n",
            "Epoch 32/250\n",
            "1875/1875 [==============================] - 5s 3ms/step - loss: 0.1379 - accuracy: 0.9482\n",
            "Epoch 33/250\n",
            "1875/1875 [==============================] - 5s 3ms/step - loss: 0.1351 - accuracy: 0.9492\n",
            "Epoch 34/250\n",
            "1875/1875 [==============================] - 5s 3ms/step - loss: 0.1317 - accuracy: 0.9497\n",
            "Epoch 35/250\n",
            "1875/1875 [==============================] - 5s 3ms/step - loss: 0.1311 - accuracy: 0.9500\n",
            "Epoch 36/250\n",
            "1875/1875 [==============================] - 5s 2ms/step - loss: 0.1271 - accuracy: 0.9513\n",
            "Epoch 37/250\n",
            "1875/1875 [==============================] - 5s 3ms/step - loss: 0.1236 - accuracy: 0.9534\n",
            "Epoch 38/250\n",
            "1875/1875 [==============================] - 5s 3ms/step - loss: 0.1213 - accuracy: 0.9542\n",
            "Epoch 39/250\n",
            "1875/1875 [==============================] - 5s 3ms/step - loss: 0.1215 - accuracy: 0.9550\n",
            "Epoch 40/250\n",
            "1875/1875 [==============================] - 5s 3ms/step - loss: 0.1162 - accuracy: 0.9557\n",
            "Epoch 41/250\n",
            "1875/1875 [==============================] - 5s 3ms/step - loss: 0.1174 - accuracy: 0.9541\n",
            "Epoch 42/250\n",
            "1875/1875 [==============================] - 5s 3ms/step - loss: 0.1151 - accuracy: 0.9562\n",
            "Epoch 43/250\n",
            "1875/1875 [==============================] - 5s 3ms/step - loss: 0.1096 - accuracy: 0.9581\n",
            "Epoch 44/250\n",
            "1875/1875 [==============================] - 5s 2ms/step - loss: 0.1102 - accuracy: 0.9586\n",
            "Epoch 45/250\n",
            "1875/1875 [==============================] - 5s 2ms/step - loss: 0.1078 - accuracy: 0.9599\n",
            "Epoch 46/250\n",
            "1875/1875 [==============================] - 5s 2ms/step - loss: 0.1064 - accuracy: 0.9602\n",
            "Epoch 47/250\n",
            "1875/1875 [==============================] - 5s 2ms/step - loss: 0.1048 - accuracy: 0.9600\n",
            "Epoch 48/250\n",
            "1875/1875 [==============================] - 5s 2ms/step - loss: 0.1031 - accuracy: 0.9613\n",
            "Epoch 49/250\n",
            "1875/1875 [==============================] - 5s 2ms/step - loss: 0.1002 - accuracy: 0.9620\n",
            "Epoch 50/250\n",
            "1875/1875 [==============================] - 5s 3ms/step - loss: 0.1012 - accuracy: 0.9613\n",
            "Epoch 51/250\n",
            "1875/1875 [==============================] - 5s 3ms/step - loss: 0.0976 - accuracy: 0.9625\n",
            "Epoch 52/250\n",
            "1875/1875 [==============================] - 5s 3ms/step - loss: 0.0971 - accuracy: 0.9631\n",
            "Epoch 53/250\n",
            "1875/1875 [==============================] - 5s 3ms/step - loss: 0.0942 - accuracy: 0.9642\n",
            "Epoch 54/250\n",
            "1875/1875 [==============================] - 5s 3ms/step - loss: 0.0949 - accuracy: 0.9642\n",
            "Epoch 55/250\n",
            "1875/1875 [==============================] - 5s 3ms/step - loss: 0.0912 - accuracy: 0.9657\n",
            "Epoch 56/250\n",
            "1875/1875 [==============================] - 5s 3ms/step - loss: 0.0907 - accuracy: 0.9655\n",
            "Epoch 57/250\n",
            "1875/1875 [==============================] - 5s 3ms/step - loss: 0.0917 - accuracy: 0.9664\n",
            "Epoch 58/250\n",
            "1875/1875 [==============================] - 5s 3ms/step - loss: 0.0857 - accuracy: 0.9682\n",
            "Epoch 59/250\n",
            "1875/1875 [==============================] - 5s 3ms/step - loss: 0.0869 - accuracy: 0.9674\n",
            "Epoch 60/250\n",
            "1875/1875 [==============================] - 5s 3ms/step - loss: 0.0851 - accuracy: 0.9687\n",
            "Epoch 61/250\n",
            "1875/1875 [==============================] - 5s 3ms/step - loss: 0.0853 - accuracy: 0.9677\n",
            "Epoch 62/250\n",
            "1875/1875 [==============================] - 5s 3ms/step - loss: 0.0827 - accuracy: 0.9690\n",
            "Epoch 63/250\n",
            "1875/1875 [==============================] - 5s 3ms/step - loss: 0.0802 - accuracy: 0.9692\n",
            "Epoch 64/250\n",
            "1875/1875 [==============================] - 5s 2ms/step - loss: 0.0814 - accuracy: 0.9690\n",
            "Epoch 65/250\n",
            "1875/1875 [==============================] - 5s 3ms/step - loss: 0.0777 - accuracy: 0.9706\n",
            "Epoch 66/250\n",
            "1875/1875 [==============================] - 5s 3ms/step - loss: 0.0811 - accuracy: 0.9700\n",
            "Epoch 67/250\n",
            "1875/1875 [==============================] - 5s 3ms/step - loss: 0.0781 - accuracy: 0.9702\n",
            "Epoch 68/250\n",
            "1875/1875 [==============================] - 5s 3ms/step - loss: 0.0771 - accuracy: 0.9709\n",
            "Epoch 69/250\n",
            "1875/1875 [==============================] - 5s 3ms/step - loss: 0.0754 - accuracy: 0.9716\n",
            "Epoch 70/250\n",
            "1875/1875 [==============================] - 5s 3ms/step - loss: 0.0744 - accuracy: 0.9725\n",
            "Epoch 71/250\n",
            "1875/1875 [==============================] - 5s 3ms/step - loss: 0.0736 - accuracy: 0.9716\n",
            "Epoch 72/250\n",
            "1875/1875 [==============================] - 5s 3ms/step - loss: 0.0737 - accuracy: 0.9726\n",
            "Epoch 73/250\n",
            "1875/1875 [==============================] - 5s 3ms/step - loss: 0.0704 - accuracy: 0.9730\n",
            "Epoch 74/250\n",
            "1875/1875 [==============================] - 5s 3ms/step - loss: 0.0720 - accuracy: 0.9731\n",
            "Epoch 75/250\n",
            "1875/1875 [==============================] - 5s 3ms/step - loss: 0.0719 - accuracy: 0.9733\n",
            "Epoch 76/250\n",
            "1875/1875 [==============================] - 5s 3ms/step - loss: 0.0715 - accuracy: 0.9731\n",
            "Epoch 77/250\n",
            "1875/1875 [==============================] - 5s 3ms/step - loss: 0.0686 - accuracy: 0.9740\n",
            "Epoch 78/250\n",
            "1875/1875 [==============================] - 5s 3ms/step - loss: 0.0669 - accuracy: 0.9751\n",
            "Epoch 79/250\n",
            "1875/1875 [==============================] - 5s 3ms/step - loss: 0.0674 - accuracy: 0.9753\n",
            "Epoch 80/250\n",
            "1875/1875 [==============================] - 5s 3ms/step - loss: 0.0680 - accuracy: 0.9740\n",
            "Epoch 81/250\n",
            "1875/1875 [==============================] - 5s 3ms/step - loss: 0.0654 - accuracy: 0.9753\n",
            "Epoch 82/250\n",
            "1875/1875 [==============================] - 5s 3ms/step - loss: 0.0638 - accuracy: 0.9762\n",
            "Epoch 83/250\n",
            "1875/1875 [==============================] - 5s 3ms/step - loss: 0.0634 - accuracy: 0.9763\n",
            "Epoch 84/250\n",
            "1875/1875 [==============================] - 5s 3ms/step - loss: 0.0640 - accuracy: 0.9761\n",
            "Epoch 85/250\n",
            "1875/1875 [==============================] - 5s 3ms/step - loss: 0.0622 - accuracy: 0.9770\n",
            "Epoch 86/250\n",
            "1875/1875 [==============================] - 5s 3ms/step - loss: 0.0596 - accuracy: 0.9774\n",
            "Epoch 87/250\n",
            "1875/1875 [==============================] - 5s 3ms/step - loss: 0.0601 - accuracy: 0.9773\n",
            "Epoch 88/250\n",
            "1875/1875 [==============================] - 5s 3ms/step - loss: 0.0625 - accuracy: 0.9767\n",
            "Epoch 89/250\n",
            "1875/1875 [==============================] - 5s 3ms/step - loss: 0.0593 - accuracy: 0.9782\n",
            "Epoch 90/250\n",
            "1875/1875 [==============================] - 5s 3ms/step - loss: 0.0588 - accuracy: 0.9781\n",
            "Epoch 91/250\n",
            "1875/1875 [==============================] - 5s 3ms/step - loss: 0.0559 - accuracy: 0.9791\n",
            "Epoch 92/250\n",
            "1875/1875 [==============================] - 5s 3ms/step - loss: 0.0574 - accuracy: 0.9787\n",
            "Epoch 93/250\n",
            "1875/1875 [==============================] - 5s 3ms/step - loss: 0.0602 - accuracy: 0.9778\n",
            "Epoch 94/250\n",
            "1875/1875 [==============================] - 5s 3ms/step - loss: 0.0535 - accuracy: 0.9798\n",
            "Epoch 95/250\n",
            "1875/1875 [==============================] - 5s 3ms/step - loss: 0.0581 - accuracy: 0.9782\n",
            "Epoch 96/250\n",
            "1875/1875 [==============================] - 5s 2ms/step - loss: 0.0548 - accuracy: 0.9803\n",
            "Epoch 97/250\n",
            "1875/1875 [==============================] - 5s 3ms/step - loss: 0.0551 - accuracy: 0.9793\n",
            "Epoch 98/250\n",
            "1875/1875 [==============================] - 5s 3ms/step - loss: 0.0531 - accuracy: 0.9801\n",
            "Epoch 99/250\n",
            "1875/1875 [==============================] - 5s 3ms/step - loss: 0.0554 - accuracy: 0.9794\n",
            "Epoch 100/250\n",
            "1875/1875 [==============================] - 5s 3ms/step - loss: 0.0506 - accuracy: 0.9810\n",
            "Epoch 101/250\n",
            "1875/1875 [==============================] - 5s 3ms/step - loss: 0.0534 - accuracy: 0.9804\n",
            "Epoch 102/250\n",
            "1875/1875 [==============================] - 5s 2ms/step - loss: 0.0513 - accuracy: 0.9807\n",
            "Epoch 103/250\n",
            "1875/1875 [==============================] - 5s 3ms/step - loss: 0.0516 - accuracy: 0.9808\n",
            "Epoch 104/250\n",
            "1875/1875 [==============================] - 5s 3ms/step - loss: 0.0513 - accuracy: 0.9808\n",
            "Epoch 105/250\n",
            "1875/1875 [==============================] - 5s 3ms/step - loss: 0.0508 - accuracy: 0.9812\n",
            "Epoch 106/250\n",
            "1875/1875 [==============================] - 5s 2ms/step - loss: 0.0493 - accuracy: 0.9819\n",
            "Epoch 107/250\n",
            "1875/1875 [==============================] - 5s 2ms/step - loss: 0.0507 - accuracy: 0.9811\n",
            "Epoch 108/250\n",
            "1875/1875 [==============================] - 5s 2ms/step - loss: 0.0491 - accuracy: 0.9814\n",
            "Epoch 109/250\n",
            "1875/1875 [==============================] - 5s 2ms/step - loss: 0.0479 - accuracy: 0.9822\n",
            "Epoch 110/250\n",
            "1875/1875 [==============================] - 5s 2ms/step - loss: 0.0474 - accuracy: 0.9825\n",
            "Epoch 111/250\n",
            "1875/1875 [==============================] - 5s 2ms/step - loss: 0.0497 - accuracy: 0.9816\n",
            "Epoch 112/250\n",
            "1875/1875 [==============================] - 5s 2ms/step - loss: 0.0460 - accuracy: 0.9821\n",
            "Epoch 113/250\n",
            "1875/1875 [==============================] - 5s 2ms/step - loss: 0.0516 - accuracy: 0.9811\n",
            "Epoch 114/250\n",
            "1875/1875 [==============================] - 5s 2ms/step - loss: 0.0442 - accuracy: 0.9835\n",
            "Epoch 115/250\n",
            "1875/1875 [==============================] - 5s 2ms/step - loss: 0.0463 - accuracy: 0.9832\n",
            "Epoch 116/250\n",
            "1875/1875 [==============================] - 5s 2ms/step - loss: 0.0462 - accuracy: 0.9824\n",
            "Epoch 117/250\n",
            "1875/1875 [==============================] - 5s 3ms/step - loss: 0.0454 - accuracy: 0.9830\n",
            "Epoch 118/250\n",
            "1875/1875 [==============================] - 5s 3ms/step - loss: 0.0444 - accuracy: 0.9832\n",
            "Epoch 119/250\n",
            "1875/1875 [==============================] - 5s 2ms/step - loss: 0.0435 - accuracy: 0.9842\n",
            "Epoch 120/250\n",
            "1875/1875 [==============================] - 5s 2ms/step - loss: 0.0468 - accuracy: 0.9828\n",
            "Epoch 121/250\n",
            "1875/1875 [==============================] - 5s 2ms/step - loss: 0.0428 - accuracy: 0.9843\n",
            "Epoch 122/250\n",
            "1875/1875 [==============================] - 5s 2ms/step - loss: 0.0420 - accuracy: 0.9846\n",
            "Epoch 123/250\n",
            "1875/1875 [==============================] - 5s 2ms/step - loss: 0.0450 - accuracy: 0.9834\n",
            "Epoch 124/250\n",
            "1875/1875 [==============================] - 5s 3ms/step - loss: 0.0426 - accuracy: 0.9845\n",
            "Epoch 125/250\n",
            "1875/1875 [==============================] - 5s 2ms/step - loss: 0.0462 - accuracy: 0.9834\n",
            "Epoch 126/250\n",
            "1875/1875 [==============================] - 5s 2ms/step - loss: 0.0417 - accuracy: 0.9842\n",
            "Epoch 127/250\n",
            "1875/1875 [==============================] - 5s 2ms/step - loss: 0.0439 - accuracy: 0.9841\n",
            "Epoch 128/250\n",
            "1875/1875 [==============================] - 5s 2ms/step - loss: 0.0384 - accuracy: 0.9859\n",
            "Epoch 129/250\n",
            "1875/1875 [==============================] - 5s 2ms/step - loss: 0.0433 - accuracy: 0.9845\n",
            "Epoch 130/250\n",
            "1875/1875 [==============================] - 5s 3ms/step - loss: 0.0395 - accuracy: 0.9857\n",
            "Epoch 131/250\n",
            "1875/1875 [==============================] - 5s 3ms/step - loss: 0.0416 - accuracy: 0.9848\n",
            "Epoch 132/250\n",
            "1875/1875 [==============================] - 5s 2ms/step - loss: 0.0400 - accuracy: 0.9857\n",
            "Epoch 133/250\n",
            "1875/1875 [==============================] - 5s 3ms/step - loss: 0.0384 - accuracy: 0.9857\n",
            "Epoch 134/250\n",
            "1875/1875 [==============================] - 5s 2ms/step - loss: 0.0371 - accuracy: 0.9862\n",
            "Epoch 135/250\n",
            "1875/1875 [==============================] - 5s 3ms/step - loss: 0.0381 - accuracy: 0.9862\n",
            "Epoch 136/250\n",
            "1875/1875 [==============================] - 5s 3ms/step - loss: 0.0408 - accuracy: 0.9844\n",
            "Epoch 137/250\n",
            "1875/1875 [==============================] - 5s 3ms/step - loss: 0.0381 - accuracy: 0.9860\n",
            "Epoch 138/250\n",
            "1875/1875 [==============================] - 5s 3ms/step - loss: 0.0360 - accuracy: 0.9866\n",
            "Epoch 139/250\n",
            "1875/1875 [==============================] - 5s 3ms/step - loss: 0.0391 - accuracy: 0.9858\n",
            "Epoch 140/250\n",
            "1875/1875 [==============================] - 5s 2ms/step - loss: 0.0390 - accuracy: 0.9858\n",
            "Epoch 141/250\n",
            "1875/1875 [==============================] - 5s 3ms/step - loss: 0.0374 - accuracy: 0.9866\n",
            "Epoch 142/250\n",
            "1875/1875 [==============================] - 5s 3ms/step - loss: 0.0390 - accuracy: 0.9852\n",
            "Epoch 143/250\n",
            "1875/1875 [==============================] - 5s 3ms/step - loss: 0.0362 - accuracy: 0.9866\n",
            "Epoch 144/250\n",
            "1875/1875 [==============================] - 5s 2ms/step - loss: 0.0379 - accuracy: 0.9855\n",
            "Epoch 145/250\n",
            "1875/1875 [==============================] - 5s 2ms/step - loss: 0.0361 - accuracy: 0.9867\n",
            "Epoch 146/250\n",
            "1875/1875 [==============================] - 5s 2ms/step - loss: 0.0318 - accuracy: 0.9882\n",
            "Epoch 147/250\n",
            "1875/1875 [==============================] - 5s 2ms/step - loss: 0.0374 - accuracy: 0.9865\n",
            "Epoch 148/250\n",
            "1875/1875 [==============================] - 5s 3ms/step - loss: 0.0360 - accuracy: 0.9869\n",
            "Epoch 149/250\n",
            "1875/1875 [==============================] - 5s 3ms/step - loss: 0.0363 - accuracy: 0.9869\n",
            "Epoch 150/250\n",
            "1875/1875 [==============================] - 5s 3ms/step - loss: 0.0357 - accuracy: 0.9874\n",
            "Epoch 151/250\n",
            "1875/1875 [==============================] - 5s 3ms/step - loss: 0.0348 - accuracy: 0.9869\n",
            "Epoch 152/250\n",
            "1875/1875 [==============================] - 5s 3ms/step - loss: 0.0378 - accuracy: 0.9864\n",
            "Epoch 153/250\n",
            "1875/1875 [==============================] - 5s 3ms/step - loss: 0.0345 - accuracy: 0.9873\n",
            "Epoch 154/250\n",
            "1875/1875 [==============================] - 5s 3ms/step - loss: 0.0353 - accuracy: 0.9869\n",
            "Epoch 155/250\n",
            "1875/1875 [==============================] - 5s 3ms/step - loss: 0.0358 - accuracy: 0.9875\n",
            "Epoch 156/250\n",
            "1875/1875 [==============================] - 5s 2ms/step - loss: 0.0337 - accuracy: 0.9874\n",
            "Epoch 157/250\n",
            "1875/1875 [==============================] - 5s 3ms/step - loss: 0.0351 - accuracy: 0.9873\n",
            "Epoch 158/250\n",
            "1875/1875 [==============================] - 5s 2ms/step - loss: 0.0322 - accuracy: 0.9883\n",
            "Epoch 159/250\n",
            "1875/1875 [==============================] - 5s 2ms/step - loss: 0.0358 - accuracy: 0.9872\n",
            "Epoch 160/250\n",
            "1875/1875 [==============================] - 5s 2ms/step - loss: 0.0326 - accuracy: 0.9884\n",
            "Epoch 161/250\n",
            "1875/1875 [==============================] - 5s 3ms/step - loss: 0.0324 - accuracy: 0.9887\n",
            "Epoch 162/250\n",
            "1875/1875 [==============================] - 5s 3ms/step - loss: 0.0335 - accuracy: 0.9880\n",
            "Epoch 163/250\n",
            "1875/1875 [==============================] - 5s 3ms/step - loss: 0.0330 - accuracy: 0.9883\n",
            "Epoch 164/250\n",
            "1875/1875 [==============================] - 5s 3ms/step - loss: 0.0318 - accuracy: 0.9884\n",
            "Epoch 165/250\n",
            "1875/1875 [==============================] - 5s 3ms/step - loss: 0.0311 - accuracy: 0.9890\n",
            "Epoch 166/250\n",
            "1875/1875 [==============================] - 5s 3ms/step - loss: 0.0333 - accuracy: 0.9877\n",
            "Epoch 167/250\n",
            "1875/1875 [==============================] - 5s 3ms/step - loss: 0.0305 - accuracy: 0.9889\n",
            "Epoch 168/250\n",
            "1875/1875 [==============================] - 5s 3ms/step - loss: 0.0310 - accuracy: 0.9885\n",
            "Epoch 169/250\n",
            "1875/1875 [==============================] - 5s 3ms/step - loss: 0.0306 - accuracy: 0.9885\n",
            "Epoch 170/250\n",
            "1875/1875 [==============================] - 5s 3ms/step - loss: 0.0311 - accuracy: 0.9890\n",
            "Epoch 171/250\n",
            "1875/1875 [==============================] - 5s 2ms/step - loss: 0.0318 - accuracy: 0.9882\n",
            "Epoch 172/250\n",
            "1875/1875 [==============================] - 5s 2ms/step - loss: 0.0293 - accuracy: 0.9894\n",
            "Epoch 173/250\n",
            "1875/1875 [==============================] - 5s 2ms/step - loss: 0.0273 - accuracy: 0.9898\n",
            "Epoch 174/250\n",
            "1875/1875 [==============================] - 5s 3ms/step - loss: 0.0327 - accuracy: 0.9886\n",
            "Epoch 175/250\n",
            "1875/1875 [==============================] - 5s 3ms/step - loss: 0.0303 - accuracy: 0.9889\n",
            "Epoch 176/250\n",
            "1875/1875 [==============================] - 5s 3ms/step - loss: 0.0275 - accuracy: 0.9898\n",
            "Epoch 177/250\n",
            "1875/1875 [==============================] - 5s 3ms/step - loss: 0.0341 - accuracy: 0.9881\n",
            "Epoch 178/250\n",
            "1875/1875 [==============================] - 5s 3ms/step - loss: 0.0290 - accuracy: 0.9898\n",
            "Epoch 179/250\n",
            "1875/1875 [==============================] - 5s 2ms/step - loss: 0.0317 - accuracy: 0.9887\n",
            "Epoch 180/250\n",
            "1875/1875 [==============================] - 5s 2ms/step - loss: 0.0308 - accuracy: 0.9893\n",
            "Epoch 181/250\n",
            "1875/1875 [==============================] - 5s 2ms/step - loss: 0.0283 - accuracy: 0.9898\n",
            "Epoch 182/250\n",
            "1875/1875 [==============================] - 5s 3ms/step - loss: 0.0291 - accuracy: 0.9894\n",
            "Epoch 183/250\n",
            "1875/1875 [==============================] - 5s 3ms/step - loss: 0.0300 - accuracy: 0.9893\n",
            "Epoch 184/250\n",
            "1875/1875 [==============================] - 5s 3ms/step - loss: 0.0307 - accuracy: 0.9893\n",
            "Epoch 185/250\n",
            "1875/1875 [==============================] - 5s 3ms/step - loss: 0.0273 - accuracy: 0.9904\n",
            "Epoch 186/250\n",
            "1875/1875 [==============================] - 5s 3ms/step - loss: 0.0301 - accuracy: 0.9888\n",
            "Epoch 187/250\n",
            "1875/1875 [==============================] - 5s 3ms/step - loss: 0.0265 - accuracy: 0.9907\n",
            "Epoch 188/250\n",
            "1875/1875 [==============================] - 5s 3ms/step - loss: 0.0295 - accuracy: 0.9891\n",
            "Epoch 189/250\n",
            "1875/1875 [==============================] - 5s 3ms/step - loss: 0.0327 - accuracy: 0.9887\n",
            "Epoch 190/250\n",
            "1875/1875 [==============================] - 5s 3ms/step - loss: 0.0249 - accuracy: 0.9912\n",
            "Epoch 191/250\n",
            "1875/1875 [==============================] - 5s 3ms/step - loss: 0.0278 - accuracy: 0.9900\n",
            "Epoch 192/250\n",
            "1875/1875 [==============================] - 5s 3ms/step - loss: 0.0266 - accuracy: 0.9906\n",
            "Epoch 193/250\n",
            "1875/1875 [==============================] - 5s 3ms/step - loss: 0.0263 - accuracy: 0.9908\n",
            "Epoch 194/250\n",
            "1875/1875 [==============================] - 5s 3ms/step - loss: 0.0276 - accuracy: 0.9896\n",
            "Epoch 195/250\n",
            "1875/1875 [==============================] - 5s 3ms/step - loss: 0.0272 - accuracy: 0.9906\n",
            "Epoch 196/250\n",
            "1875/1875 [==============================] - 5s 3ms/step - loss: 0.0280 - accuracy: 0.9900\n",
            "Epoch 197/250\n",
            "1875/1875 [==============================] - 5s 3ms/step - loss: 0.0286 - accuracy: 0.9901\n",
            "Epoch 198/250\n",
            "1875/1875 [==============================] - 5s 2ms/step - loss: 0.0269 - accuracy: 0.9904\n",
            "Epoch 199/250\n",
            "1875/1875 [==============================] - 5s 3ms/step - loss: 0.0249 - accuracy: 0.9910\n",
            "Epoch 200/250\n",
            "1875/1875 [==============================] - 5s 3ms/step - loss: 0.0273 - accuracy: 0.9902\n",
            "Epoch 201/250\n",
            "1875/1875 [==============================] - 5s 2ms/step - loss: 0.0275 - accuracy: 0.9907\n",
            "Epoch 202/250\n",
            "1875/1875 [==============================] - 5s 3ms/step - loss: 0.0250 - accuracy: 0.9910\n",
            "Epoch 203/250\n",
            "1875/1875 [==============================] - 5s 3ms/step - loss: 0.0255 - accuracy: 0.9909\n",
            "Epoch 204/250\n",
            "1875/1875 [==============================] - 5s 3ms/step - loss: 0.0231 - accuracy: 0.9918\n",
            "Epoch 205/250\n",
            "1875/1875 [==============================] - 5s 3ms/step - loss: 0.0274 - accuracy: 0.9900\n",
            "Epoch 206/250\n",
            "1875/1875 [==============================] - 5s 3ms/step - loss: 0.0244 - accuracy: 0.9916\n",
            "Epoch 207/250\n",
            "1875/1875 [==============================] - 5s 3ms/step - loss: 0.0278 - accuracy: 0.9901\n",
            "Epoch 208/250\n",
            "1875/1875 [==============================] - 5s 3ms/step - loss: 0.0291 - accuracy: 0.9904\n",
            "Epoch 209/250\n",
            "1875/1875 [==============================] - 5s 3ms/step - loss: 0.0220 - accuracy: 0.9924\n",
            "Epoch 210/250\n",
            "1875/1875 [==============================] - 5s 2ms/step - loss: 0.0302 - accuracy: 0.9895\n",
            "Epoch 211/250\n",
            "1875/1875 [==============================] - 5s 3ms/step - loss: 0.0211 - accuracy: 0.9928\n",
            "Epoch 212/250\n",
            "1875/1875 [==============================] - 5s 3ms/step - loss: 0.0259 - accuracy: 0.9908\n",
            "Epoch 213/250\n",
            "1875/1875 [==============================] - 5s 3ms/step - loss: 0.0252 - accuracy: 0.9908\n",
            "Epoch 214/250\n",
            "1875/1875 [==============================] - 5s 3ms/step - loss: 0.0244 - accuracy: 0.9911\n",
            "Epoch 215/250\n",
            "1875/1875 [==============================] - 5s 2ms/step - loss: 0.0271 - accuracy: 0.9905\n",
            "Epoch 216/250\n",
            "1875/1875 [==============================] - 5s 3ms/step - loss: 0.0252 - accuracy: 0.9915\n",
            "Epoch 217/250\n",
            "1875/1875 [==============================] - 5s 3ms/step - loss: 0.0253 - accuracy: 0.9914\n",
            "Epoch 218/250\n",
            "1875/1875 [==============================] - 5s 2ms/step - loss: 0.0217 - accuracy: 0.9924\n",
            "Epoch 219/250\n",
            "1875/1875 [==============================] - 5s 3ms/step - loss: 0.0251 - accuracy: 0.9914\n",
            "Epoch 220/250\n",
            "1875/1875 [==============================] - 5s 3ms/step - loss: 0.0220 - accuracy: 0.9923\n",
            "Epoch 221/250\n",
            "1875/1875 [==============================] - 5s 3ms/step - loss: 0.0264 - accuracy: 0.9909\n",
            "Epoch 222/250\n",
            "1875/1875 [==============================] - 5s 2ms/step - loss: 0.0273 - accuracy: 0.9903\n",
            "Epoch 223/250\n",
            "1875/1875 [==============================] - 5s 2ms/step - loss: 0.0220 - accuracy: 0.9925\n",
            "Epoch 224/250\n",
            "1875/1875 [==============================] - 5s 2ms/step - loss: 0.0209 - accuracy: 0.9927\n",
            "Epoch 225/250\n",
            "1875/1875 [==============================] - 5s 3ms/step - loss: 0.0254 - accuracy: 0.9913\n",
            "Epoch 226/250\n",
            "1875/1875 [==============================] - 5s 3ms/step - loss: 0.0273 - accuracy: 0.9907\n",
            "Epoch 227/250\n",
            "1875/1875 [==============================] - 5s 3ms/step - loss: 0.0250 - accuracy: 0.9908\n",
            "Epoch 228/250\n",
            "1875/1875 [==============================] - 5s 2ms/step - loss: 0.0258 - accuracy: 0.9913\n",
            "Epoch 229/250\n",
            "1875/1875 [==============================] - 5s 3ms/step - loss: 0.0243 - accuracy: 0.9919\n",
            "Epoch 230/250\n",
            "1875/1875 [==============================] - 5s 2ms/step - loss: 0.0215 - accuracy: 0.9923\n",
            "Epoch 231/250\n",
            "1875/1875 [==============================] - 5s 2ms/step - loss: 0.0234 - accuracy: 0.9918\n",
            "Epoch 232/250\n",
            "1875/1875 [==============================] - 5s 2ms/step - loss: 0.0257 - accuracy: 0.9914\n",
            "Epoch 233/250\n",
            "1875/1875 [==============================] - 5s 2ms/step - loss: 0.0228 - accuracy: 0.9919\n",
            "Epoch 234/250\n",
            "1875/1875 [==============================] - 5s 2ms/step - loss: 0.0207 - accuracy: 0.9930\n",
            "Epoch 235/250\n",
            "1875/1875 [==============================] - 5s 3ms/step - loss: 0.0223 - accuracy: 0.9919\n",
            "Epoch 236/250\n",
            "1875/1875 [==============================] - 5s 3ms/step - loss: 0.0215 - accuracy: 0.9928\n",
            "Epoch 237/250\n",
            "1875/1875 [==============================] - 5s 3ms/step - loss: 0.0272 - accuracy: 0.9902\n",
            "Epoch 238/250\n",
            "1875/1875 [==============================] - 5s 3ms/step - loss: 0.0215 - accuracy: 0.9928\n",
            "Epoch 239/250\n",
            "1875/1875 [==============================] - 5s 2ms/step - loss: 0.0221 - accuracy: 0.9918\n",
            "Epoch 240/250\n",
            "1875/1875 [==============================] - 5s 3ms/step - loss: 0.0240 - accuracy: 0.9921\n",
            "Epoch 241/250\n",
            "1875/1875 [==============================] - 5s 2ms/step - loss: 0.0240 - accuracy: 0.9916\n",
            "Epoch 242/250\n",
            "1875/1875 [==============================] - 5s 2ms/step - loss: 0.0178 - accuracy: 0.9937\n",
            "Epoch 243/250\n",
            "1875/1875 [==============================] - 5s 2ms/step - loss: 0.0241 - accuracy: 0.9916\n",
            "Epoch 244/250\n",
            "1875/1875 [==============================] - 5s 3ms/step - loss: 0.0215 - accuracy: 0.9926\n",
            "Epoch 245/250\n",
            "1875/1875 [==============================] - 5s 3ms/step - loss: 0.0243 - accuracy: 0.9916\n",
            "Epoch 246/250\n",
            "1875/1875 [==============================] - 5s 3ms/step - loss: 0.0200 - accuracy: 0.9928\n",
            "Epoch 247/250\n",
            "1875/1875 [==============================] - 5s 3ms/step - loss: 0.0211 - accuracy: 0.9930\n",
            "Epoch 248/250\n",
            "1875/1875 [==============================] - 5s 3ms/step - loss: 0.0199 - accuracy: 0.9935\n",
            "Epoch 249/250\n",
            "1875/1875 [==============================] - 5s 3ms/step - loss: 0.0232 - accuracy: 0.9924\n",
            "Epoch 250/250\n",
            "1875/1875 [==============================] - 5s 3ms/step - loss: 0.0195 - accuracy: 0.9932\n"
          ]
        },
        {
          "output_type": "execute_result",
          "data": {
            "text/plain": [
              "<keras.callbacks.History at 0x7fe5300925d0>"
            ]
          },
          "metadata": {},
          "execution_count": 9
        }
      ]
    },
    {
      "cell_type": "code",
      "source": [
        "# Тестирование точности обучения"
      ],
      "metadata": {
        "id": "gBmSVSWLX5KN"
      },
      "execution_count": null,
      "outputs": []
    },
    {
      "cell_type": "code",
      "source": [
        "test_loss, test_acc = model.evaluate(x_test, y_test)\n",
        "print(\"Тест точности: \", test_acc, \"Тест потерь: \", test_loss)"
      ],
      "metadata": {
        "colab": {
          "base_uri": "https://localhost:8080/"
        },
        "id": "EfEOtWaeZ9vg",
        "outputId": "3abb5c6a-d6ea-4a64-d626-4f9d240346d8"
      },
      "execution_count": 11,
      "outputs": [
        {
          "output_type": "stream",
          "name": "stdout",
          "text": [
            "313/313 [==============================] - 1s 2ms/step - loss: 1.3912 - accuracy: 0.8853\n",
            "Тест точности:  0.8852999806404114 Тест потерь:  1.3911511898040771\n"
          ]
        }
      ]
    },
    {
      "cell_type": "code",
      "source": [
        "# Играться тут =)"
      ],
      "metadata": {
        "id": "slqvKf84af9l"
      },
      "execution_count": null,
      "outputs": []
    },
    {
      "cell_type": "code",
      "source": [
        "predict = model.predict(x_train)\n",
        "# Указать в скобках [] индекс от 0 до 59999\n",
        "input_value = [124] # <---- СЮДА\n",
        "output_value = np.argmax(predict[input_value])\n",
        "answer = (plt.figure(), plt.imshow(x_train[output_value]), plt.colorbar(), plt.grid(False))\n",
        "\n",
        "print(predict[input_value])\n",
        "print(output_value)\n",
        "print(\"Нейронная сеть определила: \")\n",
        "class_names[np.argmax(predict[input_value])]"
      ],
      "metadata": {
        "colab": {
          "base_uri": "https://localhost:8080/",
          "height": 359
        },
        "id": "sFupzn0Tai33",
        "outputId": "dcfa4804-ea05-4eab-c1c2-4867c3463e56"
      },
      "execution_count": 23,
      "outputs": [
        {
          "output_type": "stream",
          "name": "stdout",
          "text": [
            "[[1.0691270e-20 0.0000000e+00 1.0000000e+00 0.0000000e+00 3.1459186e-09\n",
            "  1.7302331e-37 3.9136101e-22 0.0000000e+00 0.0000000e+00 0.0000000e+00]]\n",
            "2\n",
            "Нейронная сеть определила: \n"
          ]
        },
        {
          "output_type": "execute_result",
          "data": {
            "text/plain": [
              "'Пуловер'"
            ],
            "application/vnd.google.colaboratory.intrinsic+json": {
              "type": "string"
            }
          },
          "metadata": {},
          "execution_count": 23
        },
        {
          "output_type": "display_data",
          "data": {
            "text/plain": [
              "<Figure size 432x288 with 2 Axes>"
            ],
            "image/png": "[encoded data removed]"
          },
          "metadata": {
            "needs_background": "light"
          }
        }
      ]
    }
  ]
}